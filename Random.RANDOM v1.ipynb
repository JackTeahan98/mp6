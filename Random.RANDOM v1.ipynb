{
 "cells": [
  {
   "cell_type": "code",
   "execution_count": 1,
   "metadata": {
    "collapsed": false
   },
   "outputs": [],
   "source": [
    "import random"
   ]
  },
  {
   "cell_type": "code",
   "execution_count": 2,
   "metadata": {
    "collapsed": false
   },
   "outputs": [
    {
     "data": {
      "text/plain": [
       "0.11540124209049918"
      ]
     },
     "execution_count": 2,
     "metadata": {},
     "output_type": "execute_result"
    }
   ],
   "source": [
    "random.random()"
   ]
  },
  {
   "cell_type": "markdown",
   "metadata": {},
   "source": [
    "\n",
    "Posible outcomes\n",
    "\n",
    "(r,r)\n",
    "(r,b)\n",
    "(b,r)\n",
    "(b,b)\n",
    "\n",
    "\n",
    "With Replacement the probablities dont change without replacement do"
   ]
  },
  {
   "cell_type": "markdown",
   "metadata": {},
   "source": [
    "Probablility  is...\n",
    "\n",
    "red first   :   8/12\n",
    "blue first  :   4/12\n",
    "\n",
    "probability of red, after selecting a red before is 7/11\n",
    "probability of (r,r) is 8/12 * 7/11   :   56/132"
   ]
  },
  {
   "cell_type": "code",
   "execution_count": 3,
   "metadata": {
    "collapsed": false
   },
   "outputs": [],
   "source": [
    "itera = 100000\n",
    "blue = 4\n",
    "total = 12\n",
    "blue_count = 0"
   ]
  },
  {
   "cell_type": "code",
   "execution_count": 4,
   "metadata": {
    "collapsed": false
   },
   "outputs": [
    {
     "ename": "TypeError",
     "evalue": "'float' object is not callable",
     "output_type": "error",
     "traceback": [
      "\u001b[1;31m---------------------------------------------------------------------------\u001b[0m",
      "\u001b[1;31mTypeError\u001b[0m                                 Traceback (most recent call last)",
      "\u001b[1;32m<ipython-input-4-ed660c3ea4b5>\u001b[0m in \u001b[0;36m<module>\u001b[1;34m()\u001b[0m\n\u001b[0;32m      1\u001b[0m \u001b[1;32mfor\u001b[0m \u001b[0mi\u001b[0m \u001b[1;32min\u001b[0m \u001b[0mrange\u001b[0m\u001b[1;33m(\u001b[0m\u001b[0mitera\u001b[0m\u001b[1;33m)\u001b[0m\u001b[1;33m:\u001b[0m\u001b[1;33m\u001b[0m\u001b[0m\n\u001b[0;32m      2\u001b[0m    \u001b[1;32mif\u001b[0m \u001b[0mrandom\u001b[0m\u001b[1;33m.\u001b[0m\u001b[0mrandom\u001b[0m\u001b[1;33m(\u001b[0m\u001b[1;33m)\u001b[0m \u001b[1;33m<\u001b[0m \u001b[0mblue\u001b[0m\u001b[1;33m/\u001b[0m\u001b[0mtotal\u001b[0m\u001b[1;33m:\u001b[0m\u001b[1;33m\u001b[0m\u001b[0m\n\u001b[1;32m----> 3\u001b[1;33m       \u001b[1;32mif\u001b[0m \u001b[0mrandom\u001b[0m\u001b[1;33m.\u001b[0m\u001b[0mrandom\u001b[0m\u001b[1;33m(\u001b[0m\u001b[1;33m)\u001b[0m \u001b[1;33m(\u001b[0m\u001b[0mblue\u001b[0m \u001b[1;33m-\u001b[0m\u001b[1;36m1\u001b[0m\u001b[1;33m)\u001b[0m\u001b[1;33m/\u001b[0m\u001b[1;33m(\u001b[0m\u001b[0mtotal\u001b[0m\u001b[1;33m-\u001b[0m\u001b[1;36m1\u001b[0m\u001b[1;33m)\u001b[0m\u001b[1;33m:\u001b[0m\u001b[1;33m\u001b[0m\u001b[0m\n\u001b[0m\u001b[0;32m      4\u001b[0m         \u001b[0mblue_count\u001b[0m \u001b[1;33m+=\u001b[0m\u001b[1;36m1\u001b[0m\u001b[1;33m\u001b[0m\u001b[0m\n\u001b[0;32m      5\u001b[0m \u001b[0mprint\u001b[0m\u001b[1;33m(\u001b[0m\u001b[0mblue_count\u001b[0m\u001b[1;33m/\u001b[0m\u001b[0miterations\u001b[0m\u001b[1;33m)\u001b[0m\u001b[1;33m\u001b[0m\u001b[0m\n",
      "\u001b[1;31mTypeError\u001b[0m: 'float' object is not callable"
     ]
    }
   ],
   "source": [
    "for i in range(itera):\n",
    "   if random.random() < blue/total:\n",
    "      if random.random() (blue -1)/(total-1):\n",
    "        blue_count +=1\n",
    "print(blue_count/iterations)\n",
    "    \n",
    "\n",
    "   \n",
    "   "
   ]
  },
  {
   "cell_type": "code",
   "execution_count": 5,
   "metadata": {
    "collapsed": false
   },
   "outputs": [
    {
     "name": "stdout",
     "output_type": "stream",
     "text": [
      "0.09064\n"
     ]
    }
   ],
   "source": [
    "for i in range(itera):\n",
    "   if random.random() < blue/total:\n",
    "      if random.random()< (blue -1)/(total-1):\n",
    "        blue_count +=1\n",
    "print(blue_count/itera)"
   ]
  },
  {
   "cell_type": "code",
   "execution_count": 6,
   "metadata": {
    "collapsed": false
   },
   "outputs": [
    {
     "name": "stdout",
     "output_type": "stream",
     "text": [
      "0.09028\n"
     ]
    }
   ],
   "source": [
    "#blue_count needs to be in the same cell as method, as without it, it causes blue-count to carry on, instead o fstarting at 0...for some reason\n",
    "import random\n",
    "\n",
    "\n",
    "itera = 100000\n",
    "blue = 4\n",
    "total = 12\n",
    "blue_count = 0\n",
    "\n",
    "for i in range(itera):\n",
    "   if random.random() < blue/total:\n",
    "      if random.random()< (blue -1)/(total-1):\n",
    "        blue_count +=1\n",
    "print(blue_count/itera)"
   ]
  },
  {
   "cell_type": "code",
   "execution_count": 7,
   "metadata": {
    "collapsed": false
   },
   "outputs": [
    {
     "ename": "NameError",
     "evalue": "name 'red' is not defined",
     "output_type": "error",
     "traceback": [
      "\u001b[1;31m---------------------------------------------------------------------------\u001b[0m",
      "\u001b[1;31mNameError\u001b[0m                                 Traceback (most recent call last)",
      "\u001b[1;32m<ipython-input-7-9c9140b2634a>\u001b[0m in \u001b[0;36m<module>\u001b[1;34m()\u001b[0m\n\u001b[0;32m     16\u001b[0m             \u001b[0msecond_blue_count\u001b[0m \u001b[1;33m+=\u001b[0m\u001b[1;36m1\u001b[0m\u001b[1;33m\u001b[0m\u001b[0m\n\u001b[0;32m     17\u001b[0m \u001b[1;33m\u001b[0m\u001b[0m\n\u001b[1;32m---> 18\u001b[1;33m             \u001b[1;32mif\u001b[0m \u001b[0mrandom\u001b[0m\u001b[1;33m.\u001b[0m\u001b[0mrandom\u001b[0m\u001b[1;33m(\u001b[0m\u001b[1;33m)\u001b[0m \u001b[1;33m<\u001b[0m \u001b[0mred\u001b[0m\u001b[1;33m/\u001b[0m\u001b[0mtotal\u001b[0m\u001b[1;33m:\u001b[0m\u001b[1;33m\u001b[0m\u001b[0m\n\u001b[0m\u001b[0;32m     19\u001b[0m                 \u001b[0mred_count\u001b[0m \u001b[1;33m+=\u001b[0m\u001b[1;36m1\u001b[0m\u001b[1;33m\u001b[0m\u001b[0m\n\u001b[0;32m     20\u001b[0m                 \u001b[1;32mif\u001b[0m \u001b[0mrandom\u001b[0m\u001b[1;33m.\u001b[0m\u001b[0mrandom\u001b[0m\u001b[1;33m(\u001b[0m\u001b[1;33m)\u001b[0m\u001b[1;33m<\u001b[0m \u001b[1;33m(\u001b[0m\u001b[0mred\u001b[0m \u001b[1;33m-\u001b[0m\u001b[1;36m1\u001b[0m\u001b[1;33m)\u001b[0m\u001b[1;33m/\u001b[0m\u001b[1;33m(\u001b[0m\u001b[0mtotal\u001b[0m\u001b[1;33m-\u001b[0m\u001b[1;36m1\u001b[0m\u001b[1;33m)\u001b[0m\u001b[1;33m:\u001b[0m\u001b[1;33m\u001b[0m\u001b[0m\n",
      "\u001b[1;31mNameError\u001b[0m: name 'red' is not defined"
     ]
    }
   ],
   "source": [
    "#blue_count needs to be in the same cell as method, as without it, it causes blue-count to carry on, instead o fstarting at 0...for some reason\n",
    "import random\n",
    "\n",
    "\n",
    "itera = 100000\n",
    "blue = 4\n",
    "total = 12\n",
    "blue_count = 0\n",
    "second_blue_count = 0\n",
    "second_red_count = 0\n",
    "\n",
    "for i in range(itera):\n",
    "    if random.random() < blue/total:\n",
    "        blue_count +=1\n",
    "        if random.random()< (blue -1)/(total-1):\n",
    "            second_blue_count +=1\n",
    "            \n",
    "            if random.random() < red/total:\n",
    "                red_count +=1\n",
    "                if random.random()< (red -1)/(total-1):\n",
    "                    second_red_count +=1\n",
    "            \n",
    "\n",
    "\n",
    "print(\"The probability of getting a blue on the first time is : \",blue_count/itera)\n",
    "print(\"The probability of getting a blue on the first time and again on the second time is : \",second_blue_count/itera)\n",
    "\n",
    "print(\"The probability of getting a red on the first time is : \",red_count/itera)\n",
    "print(\"The probability of getting a red on the first time and again on the second time is : \",second_red_count/itera)"
   ]
  },
  {
   "cell_type": "code",
   "execution_count": null,
   "metadata": {
    "collapsed": false
   },
   "outputs": [],
   "source": [
    "import random\n",
    "\n",
    "\n",
    "itera = 100000\n",
    "red = 8\n",
    "blue = 4\n",
    "total = 12\n",
    "red_count = 0\n",
    "blue_count = 0\n",
    "second_blue_count = 0\n",
    "second_red_count = 0\n",
    "blueAndRed = 0\n",
    "redAndBlue = 0\n",
    "\n",
    "for i in range(itera):\n",
    "    \n",
    "    if random.random() < blue/total:\n",
    "        blue_count +=1\n",
    "        if random.random()< (blue -1)/(total-1):\n",
    "            second_blue_count +=1\n",
    "    \n",
    "    if random.random() < red/total:\n",
    "        red_count +=1\n",
    "        if random.random()< (red -1)/(total-1):\n",
    "            second_red_count +=1\n",
    "            \n",
    "    if random.random() < red/total and random.random() < blue/(total-1):\n",
    "        RedAndBlue +=1\n",
    "\n",
    "    if random.random() < blue/total and random.random() < red/(total-1):\n",
    "        RedAndBlue +=1\n",
    "            \n",
    "\n",
    "\n",
    "print(\"\\nThe probability of getting a blue on the first time is : \",blue_count/itera)\n",
    "print(\"The probability of getting a blue on the first time and again on the second time is : \",second_blue_count/itera)\n",
    "\n",
    "print(\"\\n\\nThe probability of getting a red on the first time is : \",red_count/itera)\n",
    "print(\"The probability of getting a red on the first time and again on the second time is : \",second_red_count/itera)\n",
    "\n",
    "print(\"\\n\\nThe probability of getting a red on the first time and blue on the second time is : \" ,RedAndBlue/itera)\n",
    "print(\"The probability of getting a blue on the first time and red on the second time is : \" ,BlueAndRed/itera)\n"
   ]
  },
  {
   "cell_type": "code",
   "execution_count": 8,
   "metadata": {
    "collapsed": false
   },
   "outputs": [
    {
     "ename": "SyntaxError",
     "evalue": "invalid syntax (<ipython-input-8-6d19945610a6>, line 28)",
     "output_type": "error",
     "traceback": [
      "\u001b[1;36m  File \u001b[1;32m\"<ipython-input-8-6d19945610a6>\"\u001b[1;36m, line \u001b[1;32m28\u001b[0m\n\u001b[1;33m    random.random() < blue/(total-1):\u001b[0m\n\u001b[1;37m                                    ^\u001b[0m\n\u001b[1;31mSyntaxError\u001b[0m\u001b[1;31m:\u001b[0m invalid syntax\n"
     ]
    }
   ],
   "source": [
    "import random\n",
    "\n",
    "\n",
    "itera = 100000\n",
    "red = 8\n",
    "blue = 4\n",
    "total = 12\n",
    "red_count = 0\n",
    "blue_count = 0\n",
    "second_blue_count = 0\n",
    "second_red_count = 0\n",
    "blue_and_red = 0\n",
    "red_and_blue = 0\n",
    "\n",
    "for i in range(itera):\n",
    "    \n",
    "    if random.random() < blue/total:\n",
    "        blue_count +=1\n",
    "        if random.random()< (blue -1)/(total-1):\n",
    "            second_blue_count +=1\n",
    "    \n",
    "    if random.random() < red/total:\n",
    "        red_count +=1\n",
    "        if random.random()< (red -1)/(total-1):\n",
    "            second_red_count +=1\n",
    "            \n",
    "    if random.random() < red/total:\n",
    "        random.random() < blue/(total-1):\n",
    "        RedAndBlue +=1\n",
    "\n",
    "    if random.random() < blue/total:\n",
    "        random.random() < red/(total-1):\n",
    "        RedAndBlue +=1\n",
    "            \n",
    "\n",
    "\n",
    "print(\"\\nThe probability of getting a blue on the first time is : \",blue_count/itera)\n",
    "print(\"The probability of getting a blue on the first time and again on the second time is : \",second_blue_count/itera)\n",
    "\n",
    "print(\"\\n\\nThe probability of getting a red on the first time is : \",red_count/itera)\n",
    "print(\"The probability of getting a red on the first time and again on the second time is : \",second_red_count/itera)\n",
    "\n",
    "print(\"\\n\\nThe probability of getting a red on the first time and blue on the second time is : \" ,RedAndBlue/itera)\n",
    "print(\"The probability of getting a blue on the first time and red on the second time is : \" ,BlueAndRed/itera)\n"
   ]
  },
  {
   "cell_type": "code",
   "execution_count": 9,
   "metadata": {
    "collapsed": false
   },
   "outputs": [
    {
     "data": {
      "text/plain": [
       "True"
      ]
     },
     "execution_count": 9,
     "metadata": {},
     "output_type": "execute_result"
    }
   ],
   "source": [
    "True and True"
   ]
  },
  {
   "cell_type": "code",
   "execution_count": 10,
   "metadata": {
    "collapsed": false
   },
   "outputs": [
    {
     "data": {
      "text/plain": [
       "False"
      ]
     },
     "execution_count": 10,
     "metadata": {},
     "output_type": "execute_result"
    }
   ],
   "source": [
    "True and False"
   ]
  },
  {
   "cell_type": "code",
   "execution_count": 11,
   "metadata": {
    "collapsed": false
   },
   "outputs": [
    {
     "ename": "NameError",
     "evalue": "name 'red' is not defined",
     "output_type": "error",
     "traceback": [
      "\u001b[1;31m---------------------------------------------------------------------------\u001b[0m",
      "\u001b[1;31mNameError\u001b[0m                                 Traceback (most recent call last)",
      "\u001b[1;32m<ipython-input-11-bda371248f8b>\u001b[0m in \u001b[0;36m<module>\u001b[1;34m()\u001b[0m\n\u001b[0;32m      8\u001b[0m \u001b[1;33m\u001b[0m\u001b[0m\n\u001b[0;32m      9\u001b[0m \u001b[1;32mfor\u001b[0m \u001b[0mi\u001b[0m \u001b[1;32min\u001b[0m \u001b[0mrange\u001b[0m\u001b[1;33m(\u001b[0m\u001b[1;36m100000\u001b[0m\u001b[1;33m)\u001b[0m\u001b[1;33m:\u001b[0m\u001b[1;33m\u001b[0m\u001b[0m\n\u001b[1;32m---> 10\u001b[1;33m     \u001b[1;32mif\u001b[0m \u001b[0mis_blue_red\u001b[0m\u001b[1;33m(\u001b[0m\u001b[1;33m)\u001b[0m \u001b[1;32mor\u001b[0m \u001b[0mis_red_blue\u001b[0m\u001b[1;33m(\u001b[0m\u001b[1;33m)\u001b[0m\u001b[1;33m:\u001b[0m\u001b[1;33m\u001b[0m\u001b[0m\n\u001b[0m\u001b[0;32m     11\u001b[0m         \u001b[0mred_and_blue\u001b[0m \u001b[1;33m+=\u001b[0m \u001b[1;36m1\u001b[0m\u001b[1;33m\u001b[0m\u001b[0m\n\u001b[0;32m     12\u001b[0m \u001b[1;33m\u001b[0m\u001b[0m\n",
      "\u001b[1;32m<ipython-input-11-bda371248f8b>\u001b[0m in \u001b[0;36mis_blue_red\u001b[1;34m()\u001b[0m\n\u001b[0;32m      5\u001b[0m \u001b[1;33m\u001b[0m\u001b[0m\n\u001b[0;32m      6\u001b[0m \u001b[1;32mdef\u001b[0m \u001b[0mis_blue_red\u001b[0m\u001b[1;33m(\u001b[0m\u001b[1;33m)\u001b[0m\u001b[1;33m:\u001b[0m\u001b[1;33m\u001b[0m\u001b[0m\n\u001b[1;32m----> 7\u001b[1;33m     \u001b[1;32mreturn\u001b[0m \u001b[0mrandom\u001b[0m\u001b[1;33m.\u001b[0m\u001b[0mrandom\u001b[0m\u001b[1;33m(\u001b[0m\u001b[1;33m)\u001b[0m \u001b[1;33m<\u001b[0m \u001b[0mblue\u001b[0m\u001b[1;33m/\u001b[0m\u001b[0mtotal\u001b[0m \u001b[1;32mand\u001b[0m \u001b[0mrandom\u001b[0m\u001b[1;33m.\u001b[0m\u001b[0mrandom\u001b[0m\u001b[1;33m(\u001b[0m\u001b[1;33m)\u001b[0m \u001b[1;33m<\u001b[0m \u001b[0mred\u001b[0m\u001b[1;33m/\u001b[0m\u001b[1;33m(\u001b[0m\u001b[0mtotal\u001b[0m\u001b[1;33m-\u001b[0m\u001b[1;36m1\u001b[0m\u001b[1;33m)\u001b[0m\u001b[1;33m\u001b[0m\u001b[0m\n\u001b[0m\u001b[0;32m      8\u001b[0m \u001b[1;33m\u001b[0m\u001b[0m\n\u001b[0;32m      9\u001b[0m \u001b[1;32mfor\u001b[0m \u001b[0mi\u001b[0m \u001b[1;32min\u001b[0m \u001b[0mrange\u001b[0m\u001b[1;33m(\u001b[0m\u001b[1;36m100000\u001b[0m\u001b[1;33m)\u001b[0m\u001b[1;33m:\u001b[0m\u001b[1;33m\u001b[0m\u001b[0m\n",
      "\u001b[1;31mNameError\u001b[0m: name 'red' is not defined"
     ]
    }
   ],
   "source": [
    "red_and_blue = 0\n",
    "\n",
    "def is_red_blue():\n",
    "    return random.random() < red/total and random.random() < blue/(total-1)\n",
    "        \n",
    "def is_blue_red():\n",
    "    return random.random() < blue/total and random.random() < red/(total-1)\n",
    "\n",
    "for i in range(100000):\n",
    "    if is_blue_red() or is_red_blue():\n",
    "        red_and_blue += 1\n",
    "        "
   ]
  },
  {
   "cell_type": "code",
   "execution_count": null,
   "metadata": {
    "collapsed": false
   },
   "outputs": [],
   "source": [
    "red_and_blue"
   ]
  },
  {
   "cell_type": "code",
   "execution_count": null,
   "metadata": {
    "collapsed": false
   },
   "outputs": [],
   "source": [
    "#Started using \"and\" in the cases of the red followed by blue or vice versa, as it only needs to be one or the other. I also used a\n",
    "#def to show this work in a different form\n",
    "\n",
    "import random\n",
    "\n",
    "\n",
    "itera = 100000\n",
    "red = 8\n",
    "blue = 4\n",
    "total = 12\n",
    "red_count = 0\n",
    "blue_count = 0\n",
    "second_blue_count = 0\n",
    "second_red_count = 0\n",
    "blue_and_red = 0\n",
    "red_and_blue = 0\n",
    "\n",
    "for i in range(itera):\n",
    "    \n",
    "    if random.random() < blue/total:\n",
    "        blue_count +=1\n",
    "        if random.random()< (blue -1)/(total-1):\n",
    "            second_blue_count +=1\n",
    "    \n",
    "    if random.random() < red/total:\n",
    "        red_count +=1\n",
    "        if random.random()< (red -1)/(total-1):\n",
    "            second_red_count +=1\n",
    "            \n",
    "    \n",
    "    \n",
    "    def is_red_blue():\n",
    "        return random.random() < red/total and random.random() < blue/(total-1)\n",
    "        \n",
    "    def is_blue_red():\n",
    "        return random.random() < blue/total and random.random() < red/(total-1)\n",
    "\n",
    "    for i in range(100000):\n",
    "        if is_blue_red() or is_red_blue():\n",
    "            red_and_blue += 1\n",
    "        \n",
    "            \n",
    "\n",
    "\n",
    "print(\"\\nThe probability of getting a blue on the first time is : \",blue_count/itera)\n",
    "print(\"The probability of getting a blue on the first time and again on the second time is : \",second_blue_count/itera) \n",
    "\n",
    "print(\"\\n\\nThe probability of getting a red on the first time is : \",red_count/itera)\n",
    "print(\"The probability of getting a red on the first time and again on the second time is : \",second_red_count/itera)\n",
    "\n",
    "print(\"\\n\\nThe probability of getting a red on the first time and blue on the second time is : \" ,red_and_blue/itera)\n",
    "print(\"The probability of getting a blue on the first time and red on the second time is : \" ,red_and_blue)"
   ]
  },
  {
   "cell_type": "code",
   "execution_count": null,
   "metadata": {
    "collapsed": true
   },
   "outputs": [],
   "source": [
    "#Started using \"and\" in the cases of the red followed by blue or vice versa, as it only needs to be one or the other. I also used a\n",
    "#def to show this work in a different form\n",
    "\n",
    "\n",
    "import random\n",
    "\n",
    "\n",
    "itera = 100000\n",
    "red = 8\n",
    "blue = 4\n",
    "total = 12\n",
    "red_count = 0\n",
    "blue_count = 0\n",
    "second_blue_count = 0\n",
    "second_red_count = 0\n",
    "blue_and_red = 0\n",
    "red_and_blue = 0\n",
    "\n",
    "for i in range(itera):\n",
    "    \n",
    "    if random.random() < blue/total:\n",
    "        blue_count +=1\n",
    "        if random.random()< (blue -1)/(total-1):\n",
    "            second_blue_count +=1\n",
    "    \n",
    "    if random.random() < red/total:\n",
    "        red_count +=1\n",
    "        if random.random()< (red -1)/(total-1):\n",
    "            second_red_count +=1\n",
    "            \n",
    "            \n",
    "            \n",
    "    if random.random() < red/total:\n",
    "        if random.random() < blue/(total-1):\n",
    "            RedAndBlue +=1\n",
    "    \n",
    "    if random.random() < blue/total:\n",
    "        if random.random() < red/(total-1):\n",
    "            RedAndBlue +=1\n",
    "    \n",
    "    \n",
    "    \n",
    "    #def is_red_blue():\n",
    "        #return random.random() < red/total and random.random() < blue/(total-1)\n",
    "        \n",
    "    #def is_blue_red():\n",
    "        #return random.random() < blue/total and random.random() < red/(total-1)\n",
    "\n",
    "    #for i in range(100000):\n",
    "        #if is_blue_red() or is_red_blue():\n",
    "            #red_and_blue += 1\n",
    "        \n",
    "            \n",
    "\n",
    "\n",
    "print(\"\\nThe probability of getting a blue on the first time is : \",blue_count/itera)\n",
    "print(\"The probability of getting a blue on the first time and again on the second time is : \",second_blue_count/itera) \n",
    "\n",
    "print(\"\\n\\nThe probability of getting a red on the first time is : \",red_count/itera)\n",
    "print(\"The probability of getting a red on the first time and again on the second time is : \",second_red_count/itera)\n",
    "\n",
    "print(\"\\n\\nThe probability of getting a red or a blue the first time followed by the opposite color is : \" ,RedAndBlue/itera)"
   ]
  },
  {
   "cell_type": "code",
   "execution_count": null,
   "metadata": {
    "collapsed": true
   },
   "outputs": [],
   "source": []
  }
 ],
 "metadata": {
  "kernelspec": {
   "display_name": "Python 3",
   "language": "python",
   "name": "python3"
  },
  "language_info": {
   "codemirror_mode": {
    "name": "ipython",
    "version": 3
   },
   "file_extension": ".py",
   "mimetype": "text/x-python",
   "name": "python",
   "nbconvert_exporter": "python",
   "pygments_lexer": "ipython3",
   "version": "3.5.1"
  }
 },
 "nbformat": 4,
 "nbformat_minor": 0
}
