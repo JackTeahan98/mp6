{
 "cells": [
  {
   "cell_type": "code",
   "execution_count": null,
   "metadata": {
    "collapsed": false
   },
   "outputs": [],
   "source": []
  },
  {
   "cell_type": "code",
   "execution_count": 1,
   "metadata": {
    "collapsed": false
   },
   "outputs": [],
   "source": [
    "bob        = 0\n",
    "jim        = 1\n",
    "spot       = 2\n",
    "scar       = 3\n",
    "the_donald = 4\n",
    "aslan      = 5\n",
    "juan       = 6\n",
    "\n"
   ]
  },
  {
   "cell_type": "code",
   "execution_count": 2,
   "metadata": {
    "collapsed": false
   },
   "outputs": [
    {
     "name": "stdout",
     "output_type": "stream",
     "text": [
      " 1 \n",
      " 2 \n",
      " 3 \n",
      " 4 \n",
      " 5 \n",
      " 6 \n",
      " 1 0 \n",
      " 1 1 \n",
      " 1 2 \n",
      " 1 3 \n",
      " 1 4 \n",
      " 1 5 \n",
      " 1 6\n"
     ]
    }
   ],
   "source": [
    "print(\"\",jim,\"\\n\",spot,\"\\n\",scar,\"\\n\",the_donald,\"\\n\",aslan,\"\\n\",juan,\"\\n\",jim,bob,\"\\n\",jim,jim,\"\\n\",jim,spot,\"\\n\",jim,scar,\n",
    "      \"\\n\",jim,the_donald,\"\\n\",jim,aslan,\"\\n\",jim,juan) "
   ]
  },
  {
   "cell_type": "code",
   "execution_count": 3,
   "metadata": {
    "collapsed": false
   },
   "outputs": [
    {
     "name": "stdout",
     "output_type": "stream",
     "text": [
      "(0, 1, 0, 2, 0, 3, 0, 4, 0, 5, 0, 6)\n",
      "(0, 1, 0, 2, 0, 3, 0, 4, 0, 5, 0, 6)\n",
      "(0, 1, 0, 2, 0, 3, 0, 4, 0, 5, 0, 6)\n",
      "(0, 1, 0, 2, 0, 3, 0, 4, 0, 5, 0, 6)\n",
      "(0, 1, 0, 2, 0, 3, 0, 4, 0, 5, 0, 6)\n"
     ]
    }
   ],
   "source": [
    "second = 0\n",
    "numbers =second,jim,second,spot,second,scar,second,the_donald,second,aslan,second,juan\n",
    "\n",
    "\n",
    "for i in range (5):\n",
    "    \n",
    "    print(numbers)\n",
    "    second = 0\n"
   ]
  },
  {
   "cell_type": "code",
   "execution_count": 4,
   "metadata": {
    "collapsed": false
   },
   "outputs": [
    {
     "name": "stdout",
     "output_type": "stream",
     "text": [
      "        1     2     3     4     5     6\n",
      "1 0   1 1   1 2   1 3   1 4   1 5   1 6\n",
      "2 0   2 1   2 2   2 3   2 4   2 5   2 6\n",
      "3 0   3 1   3 2   3 3   3 4   3 5   3 6\n",
      "4 0   4 1   4 2   4 3   4 4   4 5   4 6\n",
      "5 0   5 1   5 2   5 3   5 4   5 5   5 6\n",
      "6 0   6 1   6 2   6 3   6 4   6 5   6 6\n"
     ]
    }
   ],
   "source": [
    "bob        = 0\n",
    "jim        = 1\n",
    "spot       = 2\n",
    "scar       = 3\n",
    "the_donald = 4\n",
    "aslan      = 5\n",
    "juan       = 6\n",
    "\n",
    "\n",
    "print(\"       \",jim,\"   \",spot,\"   \",scar,\"   \",the_donald,\"   \",aslan,\"   \",juan)\n",
    "print(jim,bob,\" \",jim,jim,\" \",jim,spot,\" \",jim,scar,\" \",jim,the_donald,\" \",jim,aslan,\" \",jim,juan)\n",
    "print(spot,bob,\" \",spot,jim,\" \",spot,spot,\" \",spot,scar,\" \",spot,the_donald,\" \",spot,aslan,\" \",spot,juan)\n",
    "print(scar,bob,\" \",scar,jim,\" \",scar,spot,\" \",scar,scar,\" \",scar,the_donald,\" \",scar,aslan,\" \",scar,juan)\n",
    "print(the_donald,bob,\" \",the_donald,jim,\" \",the_donald,spot,\" \",the_donald,scar,\" \",the_donald,the_donald,\" \",the_donald,aslan,\" \",the_donald,juan)\n",
    "print(aslan,bob,\" \",aslan,jim,\" \",aslan,spot,\" \",aslan,scar,\" \",aslan,the_donald,\" \",aslan,aslan,\" \",aslan,juan)\n",
    "print(juan,bob,\" \",juan,jim,\" \",juan,spot,\" \",juan,scar,\" \",juan,the_donald,\" \",juan,aslan,\" \",juan,juan)\n"
   ]
  },
  {
   "cell_type": "code",
   "execution_count": 5,
   "metadata": {
    "collapsed": false
   },
   "outputs": [
    {
     "data": {
      "text/plain": [
       "['$', '!', '€', '@']"
      ]
     },
     "execution_count": 5,
     "metadata": {},
     "output_type": "execute_result"
    }
   ],
   "source": [
    "(['$','!','€','@'])"
   ]
  },
  {
   "cell_type": "code",
   "execution_count": 6,
   "metadata": {
    "collapsed": false
   },
   "outputs": [
    {
     "data": {
      "text/plain": [
       "'$!€@'"
      ]
     },
     "execution_count": 6,
     "metadata": {},
     "output_type": "execute_result"
    }
   ],
   "source": [
    "''.join(['$','!','€','@'])"
   ]
  },
  {
   "cell_type": "code",
   "execution_count": 27,
   "metadata": {
    "collapsed": false
   },
   "outputs": [
    {
     "name": "stdout",
     "output_type": "stream",
     "text": [
      "('A', 'B', 'C', 'D', 'E', 'F')\n",
      "('AZ', 'AA', 'AB', 'AC', 'AD', 'AE', 'AF')\n",
      "('BZ', 'BA', 'BB', 'BC', 'BD', 'BE', 'BF')\n",
      "('CZ', 'CA', 'CB', 'CC', 'CD', 'CE', 'CF')\n",
      "('DZ', 'DA', 'DB', 'DC', 'DD', 'DE', 'DF')\n"
     ]
    }
   ],
   "source": [
    "\n",
    "bob        = 'Z'\n",
    "jim        = 'A'\n",
    "spot       = 'B'\n",
    "scar       = 'C'\n",
    "the_donald = 'D'\n",
    "aslan      = 'E'\n",
    "juan       = 'F'\n",
    "\n",
    "\n",
    "\n",
    "first6 = jim,spot,scar,the_donald,aslan,juan\n",
    "print(first6)\n",
    "\n",
    "second6 = jim+bob, jim+jim, jim+spot,jim+scar,jim+the_donald,jim+aslan,jim+juan\n",
    "print(second6)\n",
    "\n",
    "third6 = spot+bob, spot+jim, spot+spot,spot+scar,spot+the_donald,spot+aslan,spot+juan    \n",
    "print(third6) \n",
    "\n",
    "fourth6 = scar+bob, scar+jim, scar+spot,scar+scar,scar+the_donald,scar+aslan,scar+juan    \n",
    "print(fourth6)\n",
    "\n",
    "fifth6 = the_donald+bob, the_donald+jim, the_donald+spot,the_donald+scar,the_donald+the_donald,the_donald+aslan,the_donald+juan    \n",
    "print(fifth6) \n",
    "    "
   ]
  },
  {
   "cell_type": "code",
   "execution_count": 39,
   "metadata": {
    "collapsed": false
   },
   "outputs": [
    {
     "name": "stdout",
     "output_type": "stream",
     "text": [
      "('£', '!')\n",
      "('£', '£')\n",
      "('£', '$')\n",
      "('£', '%')\n",
      "('£', '^')\n",
      "('£', '&')\n",
      "('$', '!')\n",
      "('$', '£')\n",
      "('$', '$')\n",
      "('$', '%')\n",
      "('$', '^')\n",
      "('$', '&')\n",
      "('%', '!')\n",
      "('%', '£')\n",
      "('%', '$')\n",
      "('%', '%')\n",
      "('%', '^')\n",
      "('%', '&')\n",
      "('^', '!')\n",
      "('^', '£')\n",
      "('^', '$')\n",
      "('^', '%')\n",
      "('^', '^')\n",
      "('^', '&')\n",
      "('&', '!')\n",
      "('&', '£')\n",
      "('&', '$')\n",
      "('&', '%')\n",
      "('&', '^')\n",
      "('&', '&')\n"
     ]
    }
   ],
   "source": [
    "B        = \"!\"\n",
    "JI       = \"£\"\n",
    "SP       = \"$\"\n",
    "SC       = \"%\"\n",
    "TD       = \"^\"\n",
    "A        = \"&\"\n",
    "JU       = \"*\"\n",
    "\n",
    "\n",
    "\n",
    "list = [B,JI,SP,SC,TD,A,JU]\n",
    "\n",
    "for j in range(1,6):\n",
    "     for h in range(6):\n",
    "        print((list[j],list[h]))\n",
    "\n"
   ]
  },
  {
   "cell_type": "code",
   "execution_count": 40,
   "metadata": {
    "collapsed": true
   },
   "outputs": [],
   "source": [
    "nums = [1,2,3,4]"
   ]
  },
  {
   "cell_type": "code",
   "execution_count": 41,
   "metadata": {
    "collapsed": false
   },
   "outputs": [
    {
     "name": "stdout",
     "output_type": "stream",
     "text": [
      "1\n",
      "2\n",
      "3\n",
      "4\n"
     ]
    }
   ],
   "source": [
    "for i in nums:\n",
    "  print(i)"
   ]
  },
  {
   "cell_type": "code",
   "execution_count": 42,
   "metadata": {
    "collapsed": false
   },
   "outputs": [
    {
     "name": "stdout",
     "output_type": "stream",
     "text": [
      "[4, 3, 2, 1]\n"
     ]
    }
   ],
   "source": [
    "print(nums[:: -1])"
   ]
  },
  {
   "cell_type": "code",
   "execution_count": 43,
   "metadata": {
    "collapsed": false
   },
   "outputs": [
    {
     "name": "stdout",
     "output_type": "stream",
     "text": [
      "olleH\n"
     ]
    }
   ],
   "source": [
    "print(\"Hello\"[::-1])"
   ]
  },
  {
   "cell_type": "code",
   "execution_count": 44,
   "metadata": {
    "collapsed": false
   },
   "outputs": [
    {
     "name": "stdout",
     "output_type": "stream",
     "text": [
      "Hl\n"
     ]
    }
   ],
   "source": [
    "print(\"Hello\"[0:4:2])"
   ]
  },
  {
   "cell_type": "code",
   "execution_count": 45,
   "metadata": {
    "collapsed": true
   },
   "outputs": [],
   "source": [
    "lotto ={1,2,3,4}"
   ]
  },
  {
   "cell_type": "code",
   "execution_count": 46,
   "metadata": {
    "collapsed": false
   },
   "outputs": [
    {
     "data": {
      "text/plain": [
       "4"
      ]
     },
     "execution_count": 46,
     "metadata": {},
     "output_type": "execute_result"
    }
   ],
   "source": [
    "len(lotto)"
   ]
  },
  {
   "cell_type": "code",
   "execution_count": 47,
   "metadata": {
    "collapsed": false
   },
   "outputs": [
    {
     "data": {
      "text/plain": [
       "set"
      ]
     },
     "execution_count": 47,
     "metadata": {},
     "output_type": "execute_result"
    }
   ],
   "source": [
    "type (lotto)"
   ]
  },
  {
   "cell_type": "code",
   "execution_count": 48,
   "metadata": {
    "collapsed": false
   },
   "outputs": [
    {
     "data": {
      "text/plain": [
       "4"
      ]
     },
     "execution_count": 48,
     "metadata": {},
     "output_type": "execute_result"
    }
   ],
   "source": [
    "lotto.add(1)\n",
    "len(lotto)"
   ]
  },
  {
   "cell_type": "code",
   "execution_count": 49,
   "metadata": {
    "collapsed": true
   },
   "outputs": [],
   "source": [
    "lottolist = [1,2,3,4]"
   ]
  },
  {
   "cell_type": "code",
   "execution_count": 50,
   "metadata": {
    "collapsed": false
   },
   "outputs": [
    {
     "data": {
      "text/plain": [
       "list"
      ]
     },
     "execution_count": 50,
     "metadata": {},
     "output_type": "execute_result"
    }
   ],
   "source": [
    "type (lottolist)"
   ]
  },
  {
   "cell_type": "code",
   "execution_count": 51,
   "metadata": {
    "collapsed": true
   },
   "outputs": [],
   "source": [
    "lottolist.append(1)"
   ]
  },
  {
   "cell_type": "code",
   "execution_count": 52,
   "metadata": {
    "collapsed": false
   },
   "outputs": [
    {
     "data": {
      "text/plain": [
       "({1, 2, 3, 4}, [1, 2, 3, 4, 1])"
      ]
     },
     "execution_count": 52,
     "metadata": {},
     "output_type": "execute_result"
    }
   ],
   "source": [
    "lotto, lottolist"
   ]
  },
  {
   "cell_type": "code",
   "execution_count": 53,
   "metadata": {
    "collapsed": false
   },
   "outputs": [
    {
     "name": "stdout",
     "output_type": "stream",
     "text": [
      "0  -  1  -  2  -  3  -  4  -  5  -  6  -  7  -  8  -  9  -  10  -  11  -  0  -  1  -  2  -  3  -  4  -  5  -  6  -  7  -  8  -  9  -  10  -  11  -  0  -  1  -  2  -  3  -  4  -  5  -  6  -  7  -  8  -  9  -  10  -  11  -  0  -  1  -  2  -  3  -  4  -  5  -  6  -  7  -  8  -  9  -  10  -  11  -  0  -  1  -  2  -  3  -  4  -  5  -  6  -  7  -  8  -  9  -  10  -  11  -  0  -  1  -  2  -  3  -  4  -  5  -  6  -  7  -  8  -  9  -  10  -  11  -  0  -  1  -  2  -  3  -  4  -  5  -  6  -  7  -  8  -  9  -  10  -  11  -  0  -  1  -  2  -  3  -  4  -  5  -  6  -  7  -  8  -  9  -  10  -  11  -  0  -  1  -  2  -  3  -  "
     ]
    }
   ],
   "source": [
    "for i in range(100):\n",
    "    print(i % 12, end = \"  -  \")"
   ]
  },
  {
   "cell_type": "code",
   "execution_count": 57,
   "metadata": {
    "collapsed": false
   },
   "outputs": [
    {
     "name": "stdout",
     "output_type": "stream",
     "text": [
      "0,1,2,3,4,5,6,7,8,9,0,1,2,3,4,5,6,7,8,9,0,1,2,3,4,5,6,7,8,9,0,1,2,3,4,5,6,7,8,9,0,1,2,3,4,5,6,7,8,9,0,1,2,3,4,5,6,7,8,9,0,1,2,3,4,5,6,7,8,9,0,1,2,3,4,5,6,7,8,9,0,1,2,3,4,5,6,7,8,9,0,1,2,3,4,5,6,7,8,9,"
     ]
    }
   ],
   "source": [
    "for i in range(100):\n",
    "    print(i % 10, end = \",\")\n",
    "\n"
   ]
  },
  {
   "cell_type": "code",
   "execution_count": 62,
   "metadata": {
    "collapsed": false
   },
   "outputs": [
    {
     "name": "stdout",
     "output_type": "stream",
     "text": [
      "you must carry a one\n"
     ]
    }
   ],
   "source": [
    "curr = 99\n",
    "\n",
    "if((curr + 1) % 10 == 0):\n",
    "   print(\"you must carry a one\")"
   ]
  },
  {
   "cell_type": "code",
   "execution_count": 80,
   "metadata": {
    "collapsed": false
   },
   "outputs": [],
   "source": [
    "numlist = ['9','9']\n",
    "result = ['1']\n",
    "\n",
    "for i in range (len(numlist)):\n",
    "    result.append('0')\n",
    "    \n"
   ]
  },
  {
   "cell_type": "code",
   "execution_count": 81,
   "metadata": {
    "collapsed": false
   },
   "outputs": [
    {
     "data": {
      "text/plain": [
       "['1', '0', '0']"
      ]
     },
     "execution_count": 81,
     "metadata": {},
     "output_type": "execute_result"
    }
   ],
   "source": [
    "result"
   ]
  },
  {
   "cell_type": "code",
   "execution_count": null,
   "metadata": {
    "collapsed": true
   },
   "outputs": [],
   "source": []
  }
 ],
 "metadata": {
  "kernelspec": {
   "display_name": "Python 3",
   "language": "python",
   "name": "python3"
  },
  "language_info": {
   "codemirror_mode": {
    "name": "ipython",
    "version": 3
   },
   "file_extension": ".py",
   "mimetype": "text/x-python",
   "name": "python",
   "nbconvert_exporter": "python",
   "pygments_lexer": "ipython3",
   "version": "3.5.1"
  }
 },
 "nbformat": 4,
 "nbformat_minor": 0
}
